{
 "cells": [
  {
   "cell_type": "markdown",
   "id": "c028f934",
   "metadata": {},
   "source": [
    "# Digit Recognition System\n",
    "Neural Network for recognizing digits written by hand"
   ]
  },
  {
   "cell_type": "code",
   "execution_count": 1,
   "id": "8cab501d",
   "metadata": {},
   "outputs": [],
   "source": [
    "# Import libraries\n",
    "import torch\n",
    "import numpy as np\n",
    "import sys\n",
    "import time\n",
    "import matplotlib.pyplot as plt"
   ]
  },
  {
   "cell_type": "code",
   "execution_count": 100,
   "id": "67a0b757",
   "metadata": {},
   "outputs": [],
   "source": [
    "def sig(T, gradient=False):\n",
    "  if gradient:\n",
    "    sigT = sig(T)\n",
    "    return sigT * (1 - sigT)\n",
    "  return torch.reciprocal(1 + torch.exp(-1 * T))\n",
    "\n",
    "def relu(T, gradient=False):\n",
    "  if gradient:\n",
    "    outT = torch.zeros_like(T)\n",
    "    outT[T>=0] = 1\n",
    "    return outT\n",
    "  return torch.max(T, torch.zeros_like(T))\n",
    "\n",
    "def softmax(T, dim, estable=True):\n",
    "  if estable:\n",
    "    T -= T.max(dim=dim, keepdim=True)[0]  # keepdim=True => output has dim with size 1. Otherwise, dim is squeezed\n",
    "  exp = torch.exp(T)\n",
    "  return exp / torch.sum(exp, dim=dim, keepdim=True)  # keepdim=True => output has dim with size 1. Otherwise, dim is squeezed"
   ]
  },
  {
   "cell_type": "code",
   "execution_count": 3,
   "id": "5a9c1cba",
   "metadata": {},
   "outputs": [],
   "source": [
    "# Tu código acá\n",
    "def CELoss(Q, P, estable=True, epsilon=1e-8):\n",
    "  N = Q.shape[0]\n",
    "  if estable:\n",
    "    Q = Q.clamp(epsilon, 1-epsilon)\n",
    "  return -(P * Q.log()).sum()/N"
   ]
  },
  {
   "cell_type": "code",
   "execution_count": 66,
   "id": "3e69a083",
   "metadata": {},
   "outputs": [],
   "source": [
    "# Acá solo deberías programar la función backward.\n",
    "# El resto del código viene de la Tarea 1 (a menos que hayas programado\n",
    "# la parte opcional en cuyo caso también deberías cambiar el inicializador).\n",
    "# Puedes incluir todo el código de la Tarea 1 que quieras.\n",
    "import torch.nn as nn\n",
    "from torch.nn import Parameter, ParameterList\n",
    "import math\n",
    "\n",
    "def get_init_weights(shape):\n",
    "  W = torch.randn(shape)\n",
    "  return Parameter(W)\n",
    "\n",
    "class FFNN(nn.Module):\n",
    "  def __init__(self, F, l_h, l_a, C, l_a_params=None):\n",
    "    super(FFNN, self).__init__()\n",
    "       \n",
    "    sizes = [F] + l_h + [C]\n",
    "    self.Ws = ParameterList([get_init_weights((sizes[i], sizes[i+1])) for i in range(len(sizes)-1)])\n",
    "    self.bs = ParameterList([Parameter(torch.zeros(h)) for h in sizes[1:]])\n",
    "    self.fs = l_a\n",
    "    if l_a_params is not None:\n",
    "      self.fs_ps_mask = [Parameter(torch.tensor(p)) if p else None for p in l_a_params]\n",
    "    else:\n",
    "      self.fs_ps_mask = [None for _ in l_a]\n",
    "    self.fs_ps = ParameterList([p for p in self.fs_ps_mask if p])\n",
    "    \n",
    "  @property\n",
    "  def in_size(self):\n",
    "    return self.Ws[0].shape[0]\n",
    "    \n",
    "  def load_weights(self, Ws, U, bs, c):\n",
    "    self.Ws = ParameterList([Parameter(W) for W in Ws + [U]])\n",
    "    self.bs = ParameterList([Parameter(b) for b in bs + [c]])\n",
    "  \n",
    "  def forward(self, x):\n",
    "    self.cacheU = [] \n",
    "    for W, b, f, p in zip(self.Ws[:-1], self.bs[:-1], self.fs, self.fs_ps_mask):\n",
    "      x = torch.mm(x, W) + b\n",
    "      self.cacheU.append(x)\n",
    "      x = f(x, p.item()) if p else f(x)\n",
    "    return softmax(torch.mm(x, self.Ws[-1]) + self.bs[-1], dim=1)\n",
    "  \n",
    "  # nuevo código Tarea 2\n",
    "  def backward(self, x, y, y_pred):\n",
    "    current_grad = (y_pred - y) / y.size(0)\n",
    "    \n",
    "    for i in range(len(self.Ws)-1, 0, -1):\n",
    "      if self.fs_ps_mask[i-1] is None:\n",
    "        # funcion de activacion sin parametro\n",
    "        self.Ws[i].grad = self.fs[i-1](self.cacheU[i-1]).t() @ current_grad\n",
    "      else:\n",
    "        # funcion de activacion con parametro\n",
    "        self.Ws[i].grad = self.fs[i-1](self.cacheU[i-1], self.fs_ps_mask[i-1].item()).t() @ current_grad\n",
    "      self.bs[i].grad = current_grad.sum(dim=0)\n",
    "      h_grad = current_grad @ self.Ws[i].t()\n",
    "      \n",
    "      if self.fs_ps_mask[i-1] is None:\n",
    "        # funcion de activacion sin parametro\n",
    "        current_grad = self.fs[i-1](self.cacheU[i-1], gradient=True) * h_grad\n",
    "      else:\n",
    "        # funcion de activacion con parametro\n",
    "        current_grad, p_grad = self.fs[i-1](self.cacheU[i-1], self.fs_ps_mask[i-1], gradient=True)\n",
    "        current_grad *= h_grad\n",
    "        self.fs_ps_mask[i-1].grad = (p_grad * h_grad).sum()\n",
    "    \n",
    "    self.Ws[0].grad = x.t() @ current_grad\n",
    "    self.bs[0].grad = current_grad.sum(dim=0)"
   ]
  },
  {
   "cell_type": "code",
   "execution_count": 94,
   "id": "40a5c1a7",
   "metadata": {},
   "outputs": [],
   "source": [
    "# Acá deberías modificar la implementación del optimizador SGD\n",
    "class SGD():\n",
    "  def __init__(self, parameters, lr, weight_decay=0):\n",
    "    self.wd = 1.0 - weight_decay\n",
    "    self.lr = lr\n",
    "    \n",
    "    if self.wd:\n",
    "      self.w_params, self.params = [], []\n",
    "      for p in parameters:\n",
    "        (self.w_params if len(p.size()) == 2 else self.params).append(p)\n",
    "    else:\n",
    "      self.params = [p for p in parameters]\n",
    "  \n",
    "  # debes modificar el codigo de la Tarea 2\n",
    "  def step(self):\n",
    "    for p in self.params:\n",
    "      p.data -= p.grad * self.lr\n",
    "    if self.wd:\n",
    "      for p in self.w_params:\n",
    "        p.data = self.wd * p.data - p.grad * self.lr"
   ]
  },
  {
   "cell_type": "code",
   "execution_count": 95,
   "id": "5ddc911c",
   "metadata": {},
   "outputs": [],
   "source": [
    "import sys\n",
    "from torch.utils.data import Dataset, DataLoader\n",
    "from timeit import default_timer as timer\n",
    "\n",
    "# Tu código acá\n",
    "def entrenar_FFNN(red, dataset, optimizador, epochs=1, batch_size=1, reports_every=1, device='cuda'):\n",
    "  red.to(device)\n",
    "  data = DataLoader(dataset, batch_size, shuffle=True)\n",
    "  total=len(dataset)\n",
    "  tiempo_epochs = 0\n",
    "  loss, acc = [], []\n",
    "  for e in range(1,epochs+1):  \n",
    "    inicio_epoch = timer()\n",
    "    \n",
    "    for x, y in data:\n",
    "      x, y = x.view(x.size(0), -1).float().to(device), y.to(device)\n",
    "      \n",
    "      y_pred = red(x)\n",
    "      \n",
    "      y_onehot = torch.zeros_like(y_pred)\n",
    "      y_onehot[torch.arange(x.size(0)), y] = 1.\n",
    "    \n",
    "      red.backward(x, y_onehot, y_pred)\n",
    "\n",
    "      optimizador.step()\n",
    "      \n",
    "    tiempo_epochs += timer() - inicio_epoch\n",
    "    \n",
    "    if e % reports_every == 0:\n",
    "      X = dataset.data.view(len(dataset), -1).float().to(device)\n",
    "      Y = dataset.targets.to(device)\n",
    "      \n",
    "      Y_PRED = red.forward(X).to(device)\n",
    "      \n",
    "      Y_onehot = torch.zeros_like(Y_PRED)\n",
    "      Y_onehot[torch.arange(X.size(0)), Y] = 1.\n",
    "\n",
    "      L_total = CELoss(Y_PRED, Y_onehot)\n",
    "      loss.append(L_total.item())\n",
    "      diff = Y-torch.argmax(Y_PRED,1)\n",
    "      errores = torch.nonzero(diff).size(0)\n",
    "      \n",
    "      Acc=100*(total-errores)/total\n",
    "      acc.append(Acc)\n",
    "\n",
    "      sys.stdout.write(\n",
    "            '\\rEpoch:{0:03d}'.format(e) + ' Acc:{0:.2f}%'.format(Acc)\n",
    "            + ' Loss:{0:.4f}'.format(L_total) \n",
    "            + ' Tiempo/epoch:{0:.3f}s'.format(tiempo_epochs/e))\n",
    "  \n",
    "  return loss, acc"
   ]
  },
  {
   "cell_type": "code",
   "execution_count": 96,
   "id": "0a87b3bb",
   "metadata": {},
   "outputs": [
    {
     "name": "stdout",
     "output_type": "stream",
     "text": [
      "Cantidad total de datos: 60000\n"
     ]
    }
   ],
   "source": [
    "from torchvision.datasets import MNIST\n",
    "from torchvision.transforms import ToTensor\n",
    "\n",
    "# Importamos funcionalidades útiles para mirar los datos.\n",
    "from matplotlib.pyplot import subplots\n",
    "from random import randint\n",
    "\n",
    "# Descarga y almacena el conjunto de entrenamiento de MNIST.\n",
    "mnist_dataset = MNIST('mnist', train=True, transform=ToTensor(), download=True)\n",
    "print('Cantidad total de datos:',len(mnist_dataset))"
   ]
  },
  {
   "cell_type": "code",
   "execution_count": 102,
   "id": "a2119684",
   "metadata": {},
   "outputs": [
    {
     "name": "stdout",
     "output_type": "stream",
     "text": [
      "Epoch:050 Acc:96.61% Loss:0.1131 Tiempo/epoch:5.910s"
     ]
    }
   ],
   "source": [
    "epoch_n = 50\n",
    "\n",
    "mnist_model = FFNN(784, [256,128,64], [relu, sig, relu], 10)\n",
    "\n",
    "mnist_optimizer = SGD(mnist_model.parameters(), lr=1e-2, weight_decay=2e-5)\n",
    "with torch.no_grad():\n",
    "  mnist_loss, mnist_acc = entrenar_FFNN(mnist_model, mnist_dataset, mnist_optimizer, epochs=epoch_n, batch_size=32)"
   ]
  },
  {
   "cell_type": "code",
   "execution_count": 103,
   "id": "a4396c13",
   "metadata": {},
   "outputs": [
    {
     "data": {
      "image/png": "[encoded data removed]",
      "text/plain": [
       "<Figure size 921.6x518.4 with 2 Axes>"
      ]
     },
     "metadata": {},
     "output_type": "display_data"
    }
   ],
   "source": [
    "epoch_plot = np.arange(0, epoch_n)\n",
    "fig, loss_plot = plt.subplots()\n",
    "\n",
    "color = 'tab:red'\n",
    "loss_plot.set_xlabel('Epochs')\n",
    "loss_plot.set_ylabel('Loss', color=color)\n",
    "loss_plot.plot(epoch_plot, mnist_loss, color=color)\n",
    "loss_plot.tick_params(axis='y', labelcolor=color)\n",
    "\n",
    "acc_plot = loss_plot.twinx()  # instantiate a second axes that shares the same x-axis\n",
    "\n",
    "color = 'tab:blue'\n",
    "acc_plot.set_ylabel('Accuracy', color=color)  # we already handled the x-label with ax1\n",
    "acc_plot.plot(epoch_plot, mnist_acc, color=color)\n",
    "acc_plot.tick_params(axis='y', labelcolor=color)\n",
    "\n",
    "fig.tight_layout()  # otherwise the right y-label is slightly clipped\n",
    "plt.show()"
   ]
  },
  {
   "cell_type": "code",
   "execution_count": 111,
   "id": "278ac98e",
   "metadata": {},
   "outputs": [
    {
     "data": {
      "image/png": "[encoded data removed]",
      "text/plain": [
       "<Figure size 1080x144 with 5 Axes>"
      ]
     },
     "metadata": {},
     "output_type": "display_data"
    }
   ],
   "source": [
    "n_ejemplos = 5\n",
    "fig, axs = subplots(ncols=n_ejemplos, figsize=(n_ejemplos*3, 2))\n",
    "\n",
    "for i in range(n_ejemplos):  \n",
    "  idx = randint(0,len(mnist_dataset))\n",
    "  T, l = mnist_dataset[idx]\n",
    "  img = T.view(28,28).numpy()\n",
    "  pred_prob, pred_label = torch.max(mnist_model(T.to('cuda').view(1, 784)), dim=1)\n",
    "  axs[i].set_title(\"clase: {}\\nprediction: {}\\nprob: {:.2f}\".format(l, pred_label.item(), pred_prob.item()))\n",
    "  axs[i].imshow(img)"
   ]
  }
 ],
 "metadata": {
  "kernelspec": {
   "display_name": "Python 3.10.6 64-bit",
   "language": "python",
   "name": "python3"
  },
  "language_info": {
   "codemirror_mode": {
    "name": "ipython",
    "version": 3
   },
   "file_extension": ".py",
   "mimetype": "text/x-python",
   "name": "python",
   "nbconvert_exporter": "python",
   "pygments_lexer": "ipython3",
   "version": "3.10.6"
  },
  "vscode": {
   "interpreter": {
    "hash": "916dbcbb3f70747c44a77c7bcd40155683ae19c65e1c03b4aa3499c5328201f1"
   }
  }
 },
 "nbformat": 4,
 "nbformat_minor": 5
}
